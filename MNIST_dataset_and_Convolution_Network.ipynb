{
  "nbformat": 4,
  "nbformat_minor": 0,
  "metadata": {
    "colab": {
      "name": "MNIST dataset and Convolution Network.ipynb",
      "provenance": [],
      "collapsed_sections": [],
      "authorship_tag": "ABX9TyOSQTYNDynSrI3O+2Zxd4qQ",
      "include_colab_link": true
    },
    "kernelspec": {
      "name": "python3",
      "display_name": "Python 3"
    },
    "accelerator": "GPU"
  },
  "cells": [
    {
      "cell_type": "markdown",
      "metadata": {
        "id": "view-in-github",
        "colab_type": "text"
      },
      "source": [
        "<a href=\"https://colab.research.google.com/github/ameyadalvi84/Keras/blob/master/MNIST_dataset_and_Convolution_Network.ipynb\" target=\"_parent\"><img src=\"https://colab.research.google.com/assets/colab-badge.svg\" alt=\"Open In Colab\"/></a>"
      ]
    },
    {
      "cell_type": "markdown",
      "metadata": {
        "id": "LlIQ6TWdRvD8",
        "colab_type": "text"
      },
      "source": [
        "Using Convolutional Network with MNIST dataset."
      ]
    },
    {
      "cell_type": "code",
      "metadata": {
        "id": "ZMOadL6MQfMW",
        "colab_type": "code",
        "colab": {}
      },
      "source": [
        "import keras as K\n",
        "from keras import models, layers\n",
        "import numpy as np\n",
        "from sklearn.metrics import confusion_matrix, classification_report"
      ],
      "execution_count": 0,
      "outputs": []
    },
    {
      "cell_type": "code",
      "metadata": {
        "id": "PMcZSXj0ShFq",
        "colab_type": "code",
        "colab": {
          "base_uri": "https://localhost:8080/",
          "height": 72
        },
        "outputId": "f3a6b4bd-c934-4bbd-d254-938602cd4a89"
      },
      "source": [
        "from keras.datasets import mnist\n",
        "\n",
        "(train_images,train_labels),(test_images,test_labels) = mnist.load_data()\n",
        "\n",
        "print(\"Shape of train_images :\",train_images.shape)\n",
        "print(\"Max value in train_images : \", train_images.max())\n",
        "print(\"Min value in train_images : \", train_images.min())"
      ],
      "execution_count": 20,
      "outputs": [
        {
          "output_type": "stream",
          "text": [
            "Shape of train_images : (60000, 28, 28)\n",
            "Max value in train_images :  255\n",
            "Min value in train_images :  0\n"
          ],
          "name": "stdout"
        }
      ]
    },
    {
      "cell_type": "markdown",
      "metadata": {
        "id": "1PqLG94vTgUF",
        "colab_type": "text"
      },
      "source": [
        "Display Image"
      ]
    },
    {
      "cell_type": "code",
      "metadata": {
        "id": "qiFiPPwFS5Mh",
        "colab_type": "code",
        "colab": {
          "base_uri": "https://localhost:8080/",
          "height": 281
        },
        "outputId": "6e8f6099-bf63-4dbd-94a3-eefc99a55dff"
      },
      "source": [
        "import matplotlib.pyplot as plt\n",
        "%matplotlib inline\n",
        "import random\n",
        "\n",
        "random.seed(71234)\n",
        "indx = random.randint(1,10)\n",
        "plt.imshow(train_images[indx],cmap = plt.cm.binary)\n",
        "plt.title(train_labels[indx])\n",
        "plt.show()"
      ],
      "execution_count": 21,
      "outputs": [
        {
          "output_type": "display_data",
          "data": {
            "image/png": "[encoded data removed]",
            "text/plain": [
              "<Figure size 432x288 with 1 Axes>"
            ]
          },
          "metadata": {
            "tags": [],
            "needs_background": "light"
          }
        }
      ]
    },
    {
      "cell_type": "markdown",
      "metadata": {
        "id": "Fmmi8ea2VNBK",
        "colab_type": "text"
      },
      "source": [
        "Reshaping data and normalizing the inputs"
      ]
    },
    {
      "cell_type": "code",
      "metadata": {
        "id": "dajgkhgRUoU7",
        "colab_type": "code",
        "colab": {}
      },
      "source": [
        "from keras.utils import to_categorical\n",
        "\n",
        "train_images_reshape = train_images.reshape((train_images.shape[0],train_images.shape[1],train_images.shape[2],1))\n",
        "train_images_reshape = train_images_reshape.astype('float32') / train_images.max()\n",
        "test_images_reshape = test_images.reshape((test_images.shape[0],test_images.shape[1],test_images.shape[2],1))\n",
        "test_images_reshape = test_images_reshape.astype('float32') / test_images.max()\n",
        "\n",
        "train_labels_cat = to_categorical(train_labels)\n",
        "test_labels_cat = to_categorical(test_labels)"
      ],
      "execution_count": 0,
      "outputs": []
    },
    {
      "cell_type": "markdown",
      "metadata": {
        "id": "nGKAKGi0XFPt",
        "colab_type": "text"
      },
      "source": [
        "Building the Model"
      ]
    },
    {
      "cell_type": "code",
      "metadata": {
        "id": "Gbitwhq8W0De",
        "colab_type": "code",
        "colab": {}
      },
      "source": [
        "def build_model():\n",
        "  model = models.Sequential()\n",
        "  model.add(layers.Conv2D(32,(3,3),activation='relu',input_shape=(28,28,1)))\n",
        "  model.add(layers.MaxPool2D())\n",
        "  model.add(layers.Conv2D(64,(3,3),activation='relu'))\n",
        "  model.add(layers.MaxPool2D())\n",
        "  model.add(layers.Conv2D(64,(3,3),activation='relu'))\n",
        "  model.add(layers.Flatten())\n",
        "  model.add(layers.Dense(64,activation='relu'))\n",
        "  model.add(layers.Dense(10,activation='softmax'))\n",
        "  model.compile(optimizer = 'adam',loss = 'categorical_crossentropy',metrics = ['accuracy'])\n",
        "  return model"
      ],
      "execution_count": 0,
      "outputs": []
    },
    {
      "cell_type": "markdown",
      "metadata": {
        "id": "IO4jA4keZrc2",
        "colab_type": "text"
      },
      "source": [
        "Executing the model on training data and validation data"
      ]
    },
    {
      "cell_type": "code",
      "metadata": {
        "id": "WsT4VinQZm9R",
        "colab_type": "code",
        "colab": {
          "base_uri": "https://localhost:8080/",
          "height": 954
        },
        "outputId": "78128e94-a29f-4cce-f0a6-43b8a4008544"
      },
      "source": [
        "num_val_records = 10000\n",
        "epochs = 25\n",
        "val_images = train_images_reshape[:num_val_records]\n",
        "val_labels = train_labels_cat[:num_val_records]\n",
        "partial_train_images = train_images_reshape[num_val_records:]\n",
        "partial_train_labels = train_labels_cat[num_val_records:]\n",
        "model1=build_model()\n",
        "history = model1.fit(partial_train_images,\n",
        "                     partial_train_labels,\n",
        "                     epochs= epochs,\n",
        "                     batch_size=128,\n",
        "                     validation_data = (val_images,val_labels))"
      ],
      "execution_count": 24,
      "outputs": [
        {
          "output_type": "stream",
          "text": [
            "Train on 50000 samples, validate on 10000 samples\n",
            "Epoch 1/25\n",
            "50000/50000 [==============================] - 6s 121us/step - loss: 0.2659 - accuracy: 0.9231 - val_loss: 0.0935 - val_accuracy: 0.9726\n",
            "Epoch 2/25\n",
            "50000/50000 [==============================] - 5s 105us/step - loss: 0.0676 - accuracy: 0.9792 - val_loss: 0.0649 - val_accuracy: 0.9811\n",
            "Epoch 3/25\n",
            "50000/50000 [==============================] - 5s 103us/step - loss: 0.0457 - accuracy: 0.9855 - val_loss: 0.0626 - val_accuracy: 0.9821\n",
            "Epoch 4/25\n",
            "50000/50000 [==============================] - 5s 101us/step - loss: 0.0366 - accuracy: 0.9881 - val_loss: 0.0463 - val_accuracy: 0.9861\n",
            "Epoch 5/25\n",
            "50000/50000 [==============================] - 5s 101us/step - loss: 0.0295 - accuracy: 0.9905 - val_loss: 0.0441 - val_accuracy: 0.9881\n",
            "Epoch 6/25\n",
            "50000/50000 [==============================] - 5s 99us/step - loss: 0.0240 - accuracy: 0.9926 - val_loss: 0.0518 - val_accuracy: 0.9850\n",
            "Epoch 7/25\n",
            "50000/50000 [==============================] - 5s 99us/step - loss: 0.0214 - accuracy: 0.9931 - val_loss: 0.0442 - val_accuracy: 0.9884\n",
            "Epoch 8/25\n",
            "50000/50000 [==============================] - 5s 100us/step - loss: 0.0172 - accuracy: 0.9947 - val_loss: 0.0460 - val_accuracy: 0.9878\n",
            "Epoch 9/25\n",
            "50000/50000 [==============================] - 5s 99us/step - loss: 0.0146 - accuracy: 0.9951 - val_loss: 0.0500 - val_accuracy: 0.9856\n",
            "Epoch 10/25\n",
            "50000/50000 [==============================] - 5s 99us/step - loss: 0.0121 - accuracy: 0.9960 - val_loss: 0.0524 - val_accuracy: 0.9870\n",
            "Epoch 11/25\n",
            "50000/50000 [==============================] - 5s 100us/step - loss: 0.0129 - accuracy: 0.9958 - val_loss: 0.0503 - val_accuracy: 0.9877\n",
            "Epoch 12/25\n",
            "50000/50000 [==============================] - 5s 100us/step - loss: 0.0112 - accuracy: 0.9961 - val_loss: 0.0438 - val_accuracy: 0.9890\n",
            "Epoch 13/25\n",
            "50000/50000 [==============================] - 5s 103us/step - loss: 0.0082 - accuracy: 0.9973 - val_loss: 0.0470 - val_accuracy: 0.9865\n",
            "Epoch 14/25\n",
            "50000/50000 [==============================] - 5s 106us/step - loss: 0.0086 - accuracy: 0.9969 - val_loss: 0.0431 - val_accuracy: 0.9901\n",
            "Epoch 15/25\n",
            "50000/50000 [==============================] - 5s 102us/step - loss: 0.0071 - accuracy: 0.9977 - val_loss: 0.0494 - val_accuracy: 0.9888\n",
            "Epoch 16/25\n",
            "50000/50000 [==============================] - 5s 101us/step - loss: 0.0066 - accuracy: 0.9979 - val_loss: 0.0513 - val_accuracy: 0.9890\n",
            "Epoch 17/25\n",
            "50000/50000 [==============================] - 5s 103us/step - loss: 0.0043 - accuracy: 0.9987 - val_loss: 0.0475 - val_accuracy: 0.9902\n",
            "Epoch 18/25\n",
            "50000/50000 [==============================] - 5s 101us/step - loss: 0.0081 - accuracy: 0.9968 - val_loss: 0.0493 - val_accuracy: 0.9903\n",
            "Epoch 19/25\n",
            "50000/50000 [==============================] - 5s 102us/step - loss: 0.0047 - accuracy: 0.9984 - val_loss: 0.0641 - val_accuracy: 0.9866\n",
            "Epoch 20/25\n",
            "50000/50000 [==============================] - 5s 102us/step - loss: 0.0050 - accuracy: 0.9984 - val_loss: 0.0451 - val_accuracy: 0.9898\n",
            "Epoch 21/25\n",
            "50000/50000 [==============================] - 5s 101us/step - loss: 0.0063 - accuracy: 0.9981 - val_loss: 0.0429 - val_accuracy: 0.9912\n",
            "Epoch 22/25\n",
            "50000/50000 [==============================] - 5s 101us/step - loss: 0.0042 - accuracy: 0.9985 - val_loss: 0.0412 - val_accuracy: 0.9903\n",
            "Epoch 23/25\n",
            "50000/50000 [==============================] - 6s 112us/step - loss: 0.0039 - accuracy: 0.9986 - val_loss: 0.0473 - val_accuracy: 0.9895\n",
            "Epoch 24/25\n",
            "50000/50000 [==============================] - 6s 120us/step - loss: 0.0062 - accuracy: 0.9981 - val_loss: 0.0518 - val_accuracy: 0.9897\n",
            "Epoch 25/25\n",
            "50000/50000 [==============================] - 6s 113us/step - loss: 0.0018 - accuracy: 0.9995 - val_loss: 0.0522 - val_accuracy: 0.9909\n"
          ],
          "name": "stdout"
        }
      ]
    },
    {
      "cell_type": "code",
      "metadata": {
        "id": "QFVlZo_Fbtcj",
        "colab_type": "code",
        "colab": {
          "base_uri": "https://localhost:8080/",
          "height": 35
        },
        "outputId": "811c2bb3-0207-460f-8c1f-6e28f3d44755"
      },
      "source": [
        "history_dict = history.history\n",
        "history_dict.keys()"
      ],
      "execution_count": 25,
      "outputs": [
        {
          "output_type": "execute_result",
          "data": {
            "text/plain": [
              "dict_keys(['val_loss', 'val_accuracy', 'loss', 'accuracy'])"
            ]
          },
          "metadata": {
            "tags": []
          },
          "execution_count": 25
        }
      ]
    },
    {
      "cell_type": "code",
      "metadata": {
        "id": "jqdgwZpxcwBn",
        "colab_type": "code",
        "colab": {
          "base_uri": "https://localhost:8080/",
          "height": 279
        },
        "outputId": "50710e06-4397-4c3e-836e-88a7abf3a773"
      },
      "source": [
        "validation_loss = history_dict['val_loss']\n",
        "validation_acc = history_dict['val_accuracy']\n",
        "train_loss = history_dict['loss']\n",
        "train_acc = history_dict['accuracy']\n",
        "epoch_num = range(1,len(validation_loss)+1)\n",
        "plt.plot(epoch_num,validation_loss,'r--',label=\"Validation Loss\")\n",
        "plt.plot(epoch_num,train_loss,'b-.',label='Training Loss')\n",
        "plt.xlabel('Epochs')\n",
        "plt.ylabel(\"Loss\")\n",
        "plt.legend()\n",
        "plt.show()"
      ],
      "execution_count": 26,
      "outputs": [
        {
          "output_type": "display_data",
          "data": {
            "image/png": "[encoded data removed]",
            "text/plain": [
              "<Figure size 432x288 with 1 Axes>"
            ]
          },
          "metadata": {
            "tags": [],
            "needs_background": "light"
          }
        }
      ]
    },
    {
      "cell_type": "code",
      "metadata": {
        "id": "W-MNx0wreO2R",
        "colab_type": "code",
        "colab": {
          "base_uri": "https://localhost:8080/",
          "height": 279
        },
        "outputId": "6fca9e0d-9b99-4ad5-a17c-a1143232bee2"
      },
      "source": [
        "plt.plot(epoch_num,validation_acc,'r--',label=\"Validation Accuracy\")\n",
        "plt.plot(epoch_num,train_acc,'b-.',label='Training Accuracy')\n",
        "plt.ylabel(\"Accuracy\")\n",
        "plt.xlabel('Epochs')\n",
        "plt.legend()\n",
        "plt.show()"
      ],
      "execution_count": 27,
      "outputs": [
        {
          "output_type": "display_data",
          "data": {
            "image/png": "[encoded data removed]",
            "text/plain": [
              "<Figure size 432x288 with 1 Axes>"
            ]
          },
          "metadata": {
            "tags": [],
            "needs_background": "light"
          }
        }
      ]
    },
    {
      "cell_type": "markdown",
      "metadata": {
        "id": "7jOHlVRJe5x6",
        "colab_type": "text"
      },
      "source": [
        "Final training"
      ]
    },
    {
      "cell_type": "code",
      "metadata": {
        "id": "96iGOzWZezqR",
        "colab_type": "code",
        "colab": {
          "base_uri": "https://localhost:8080/",
          "height": 35
        },
        "outputId": "720ec305-b406-44aa-eca9-d4c4fcc06850"
      },
      "source": [
        "model1.fit(train_images_reshape,\n",
        "           train_labels_cat,\n",
        "           batch_size=128,\n",
        "           epochs=22,\n",
        "           verbose = 0)"
      ],
      "execution_count": 35,
      "outputs": [
        {
          "output_type": "execute_result",
          "data": {
            "text/plain": [
              "<keras.callbacks.callbacks.History at 0x7f7f16462cf8>"
            ]
          },
          "metadata": {
            "tags": []
          },
          "execution_count": 35
        }
      ]
    },
    {
      "cell_type": "code",
      "metadata": {
        "id": "fSXnXHsrfjs8",
        "colab_type": "code",
        "colab": {
          "base_uri": "https://localhost:8080/",
          "height": 35
        },
        "outputId": "340dc701-d441-45b0-87a6-4f03247f3091"
      },
      "source": [
        "result = model1.evaluate(test_images_reshape,test_labels_cat)"
      ],
      "execution_count": 36,
      "outputs": [
        {
          "output_type": "stream",
          "text": [
            "10000/10000 [==============================] - 1s 104us/step\n"
          ],
          "name": "stdout"
        }
      ]
    },
    {
      "cell_type": "code",
      "metadata": {
        "id": "wIWFun24fvTs",
        "colab_type": "code",
        "colab": {
          "base_uri": "https://localhost:8080/",
          "height": 35
        },
        "outputId": "41433521-1ae0-4616-a7ce-d4c1ad34344d"
      },
      "source": [
        "result"
      ],
      "execution_count": 37,
      "outputs": [
        {
          "output_type": "execute_result",
          "data": {
            "text/plain": [
              "[0.0553876274310303, 0.9934999942779541]"
            ]
          },
          "metadata": {
            "tags": []
          },
          "execution_count": 37
        }
      ]
    },
    {
      "cell_type": "code",
      "metadata": {
        "id": "J57hE1hEfxIh",
        "colab_type": "code",
        "colab": {}
      },
      "source": [
        "Y_pred = model1.predict(test_images_reshape)"
      ],
      "execution_count": 0,
      "outputs": []
    },
    {
      "cell_type": "code",
      "metadata": {
        "id": "N577iHLYgR15",
        "colab_type": "code",
        "colab": {}
      },
      "source": [
        "y_pred = np.argmax(Y_pred,axis=1)"
      ],
      "execution_count": 0,
      "outputs": []
    },
    {
      "cell_type": "code",
      "metadata": {
        "id": "BknMUtKhgdFs",
        "colab_type": "code",
        "colab": {
          "base_uri": "https://localhost:8080/",
          "height": 219
        },
        "outputId": "99fdd591-f338-4230-fe8b-731e16f15c23"
      },
      "source": [
        "print(\"Confusion Matrix\")\n",
        "print(confusion_matrix(test_labels,y_pred))"
      ],
      "execution_count": 40,
      "outputs": [
        {
          "output_type": "stream",
          "text": [
            "Confusion Matrix\n",
            "[[ 979    0    0    0    0    0    0    1    0    0]\n",
            " [   0 1133    0    0    0    2    0    0    0    0]\n",
            " [   2    0 1022    0    1    0    0    6    1    0]\n",
            " [   0    0    2 1004    0    3    0    0    1    0]\n",
            " [   0    0    0    0  980    0    1    0    0    1]\n",
            " [   1    1    0    5    0  883    1    0    0    1]\n",
            " [   1    2    0    0    2    1  952    0    0    0]\n",
            " [   0    2    1    0    1    0    0 1021    0    3]\n",
            " [   0    0    3    1    0    1    0    0  968    1]\n",
            " [   1    0    0    1    6    3    0    3    2  993]]\n"
          ],
          "name": "stdout"
        }
      ]
    },
    {
      "cell_type": "code",
      "metadata": {
        "id": "QsgdO88YgpPb",
        "colab_type": "code",
        "colab": {
          "base_uri": "https://localhost:8080/",
          "height": 348
        },
        "outputId": "dd021385-4236-48e7-ca42-fe8465c70365"
      },
      "source": [
        "print(\"Classification_report\")\n",
        "print(classification_report(test_labels,y_pred))"
      ],
      "execution_count": 54,
      "outputs": [
        {
          "output_type": "stream",
          "text": [
            "Classification_report\n",
            "              precision    recall  f1-score   support\n",
            "\n",
            "           0       0.99      1.00      1.00       980\n",
            "           1       1.00      1.00      1.00      1135\n",
            "           2       0.99      0.99      0.99      1032\n",
            "           3       0.99      0.99      0.99      1010\n",
            "           4       0.99      1.00      0.99       982\n",
            "           5       0.99      0.99      0.99       892\n",
            "           6       1.00      0.99      1.00       958\n",
            "           7       0.99      0.99      0.99      1028\n",
            "           8       1.00      0.99      0.99       974\n",
            "           9       0.99      0.98      0.99      1009\n",
            "\n",
            "    accuracy                           0.99     10000\n",
            "   macro avg       0.99      0.99      0.99     10000\n",
            "weighted avg       0.99      0.99      0.99     10000\n",
            "\n"
          ],
          "name": "stdout"
        }
      ]
    },
    {
      "cell_type": "code",
      "metadata": {
        "id": "jICT5wOIg2vL",
        "colab_type": "code",
        "colab": {}
      },
      "source": [
        ""
      ],
      "execution_count": 0,
      "outputs": []
    }
  ]
}