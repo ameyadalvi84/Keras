{
  "nbformat": 4,
  "nbformat_minor": 0,
  "metadata": {
    "colab": {
      "name": "MNIST Dataset Analysis using Keras",
      "provenance": [],
      "authorship_tag": "ABX9TyMI71Qbjcgu2weodrnlFkHk",
      "include_colab_link": true
    },
    "kernelspec": {
      "name": "python3",
      "display_name": "Python 3"
    },
    "accelerator": "GPU"
  },
  "cells": [
    {
      "cell_type": "markdown",
      "metadata": {
        "id": "view-in-github",
        "colab_type": "text"
      },
      "source": [
        "<a href=\"https://colab.research.google.com/github/ameyadalvi84/Keras/blob/master/MNIST_Dataset_Analysis_using_Keras.ipynb\" target=\"_parent\"><img src=\"https://colab.research.google.com/assets/colab-badge.svg\" alt=\"Open In Colab\"/></a>"
      ]
    },
    {
      "cell_type": "markdown",
      "metadata": {
        "id": "laEDlwNzhbNY",
        "colab_type": "text"
      },
      "source": [
        "**MNIST** Dataset from Keras"
      ]
    },
    {
      "cell_type": "code",
      "metadata": {
        "id": "PFb2XVd4hV_B",
        "colab_type": "code",
        "colab": {
          "base_uri": "https://localhost:8080/",
          "height": 34
        },
        "outputId": "a2c7cefb-8479-49bb-9ed0-a223297c665b"
      },
      "source": [
        "import keras as K"
      ],
      "execution_count": 2,
      "outputs": [
        {
          "output_type": "stream",
          "text": [
            "Using TensorFlow backend.\n"
          ],
          "name": "stderr"
        }
      ]
    },
    {
      "cell_type": "code",
      "metadata": {
        "id": "OVzTPvrChxEt",
        "colab_type": "code",
        "colab": {}
      },
      "source": [
        "from keras.datasets import mnist"
      ],
      "execution_count": 0,
      "outputs": []
    },
    {
      "cell_type": "code",
      "metadata": {
        "id": "iUHybXoYh4XM",
        "colab_type": "code",
        "colab": {}
      },
      "source": [
        "import numpy as np"
      ],
      "execution_count": 0,
      "outputs": []
    },
    {
      "cell_type": "markdown",
      "metadata": {
        "id": "ual7OFpqiSvS",
        "colab_type": "text"
      },
      "source": [
        "Loading the MNIST data set into train and test data set"
      ]
    },
    {
      "cell_type": "code",
      "metadata": {
        "id": "f7Q9EKYfiRMR",
        "colab_type": "code",
        "colab": {
          "base_uri": "https://localhost:8080/",
          "height": 51
        },
        "outputId": "bae55671-a852-446d-95de-d7e1a349d2a0"
      },
      "source": [
        "(train_images, train_labels),(test_images,test_labels) = mnist.load_data()"
      ],
      "execution_count": 5,
      "outputs": [
        {
          "output_type": "stream",
          "text": [
            "Downloading data from https://s3.amazonaws.com/img-datasets/mnist.npz\n",
            "11493376/11490434 [==============================] - 1s 0us/step\n"
          ],
          "name": "stdout"
        }
      ]
    },
    {
      "cell_type": "markdown",
      "metadata": {
        "id": "-B20irGwiuWN",
        "colab_type": "text"
      },
      "source": [
        "doing basic checks on data (EDA kind of)"
      ]
    },
    {
      "cell_type": "code",
      "metadata": {
        "id": "7f2jWrJFipBp",
        "colab_type": "code",
        "colab": {
          "base_uri": "https://localhost:8080/",
          "height": 84
        },
        "outputId": "278ee71e-280b-41da-e3bb-0c4cbab2556f"
      },
      "source": [
        "print(\"length of Train_images : \",len(train_images))\n",
        "print(\"Shape of Train_images : \",train_images.shape)\n",
        "print(\"length of Test_images : \",len(test_images))\n",
        "print(\"Shape of Test_images : \",test_images.shape)"
      ],
      "execution_count": 6,
      "outputs": [
        {
          "output_type": "stream",
          "text": [
            "length of Train_images :  60000\n",
            "Shape of Train_images :  (60000, 28, 28)\n",
            "length of Test_images :  10000\n",
            "Shape of Test_images :  (10000, 28, 28)\n"
          ],
          "name": "stdout"
        }
      ]
    },
    {
      "cell_type": "markdown",
      "metadata": {
        "id": "YSKuibI5jagD",
        "colab_type": "text"
      },
      "source": [
        "plotting few images of MNIST data"
      ]
    },
    {
      "cell_type": "code",
      "metadata": {
        "id": "p6TQSHNAi-WP",
        "colab_type": "code",
        "colab": {
          "base_uri": "https://localhost:8080/",
          "height": 281
        },
        "outputId": "12d367ba-9be4-4b41-85ba-92b9deea9a23"
      },
      "source": [
        "import matplotlib.pyplot as plt\n",
        "%matplotlib inline\n",
        "\n",
        "indx = 8\n",
        "data = train_images[indx]\n",
        "plt.imshow(data,cmap = plt.cm.binary)\n",
        "plt.title(train_labels[indx])\n",
        "plt.show()"
      ],
      "execution_count": 7,
      "outputs": [
        {
          "output_type": "display_data",
          "data": {
            "image/png": "[encoded data removed]",
            "text/plain": [
              "<Figure size 432x288 with 1 Axes>"
            ]
          },
          "metadata": {
            "tags": [],
            "needs_background": "light"
          }
        }
      ]
    },
    {
      "cell_type": "markdown",
      "metadata": {
        "id": "v5x6Vfw6l4wW",
        "colab_type": "text"
      },
      "source": [
        "Converting Label data to categorical values"
      ]
    },
    {
      "cell_type": "code",
      "metadata": {
        "id": "pI2Vxo4Gk7Ea",
        "colab_type": "code",
        "colab": {}
      },
      "source": [
        "from keras.utils import to_categorical\n",
        "\n",
        "train_labels_categorical = to_categorical(train_labels)\n",
        "test_labels_categorical = to_categorical(test_labels)"
      ],
      "execution_count": 0,
      "outputs": []
    },
    {
      "cell_type": "code",
      "metadata": {
        "id": "FfgZrC5Wmdeg",
        "colab_type": "code",
        "colab": {
          "base_uri": "https://localhost:8080/",
          "height": 50
        },
        "outputId": "aaf3edf7-150b-4c94-e5ff-16a2001ced33"
      },
      "source": [
        "print(train_labels_categorical[indx])\n",
        "print(train_labels[indx])"
      ],
      "execution_count": 9,
      "outputs": [
        {
          "output_type": "stream",
          "text": [
            "[0. 1. 0. 0. 0. 0. 0. 0. 0. 0.]\n",
            "1\n"
          ],
          "name": "stdout"
        }
      ]
    },
    {
      "cell_type": "markdown",
      "metadata": {
        "id": "PFIR5UlNm_B1",
        "colab_type": "text"
      },
      "source": [
        "Creating Keras Model"
      ]
    },
    {
      "cell_type": "code",
      "metadata": {
        "id": "bvA2N97hmjJ7",
        "colab_type": "code",
        "colab": {}
      },
      "source": [
        "from keras import models\n",
        "from keras import layers\n",
        "\n",
        "\n",
        "def build_model():\n",
        "  model = models.Sequential()\n",
        "  model.add(layers.Dense(32,activation='relu', input_shape=(28*28,)))\n",
        "  model.add(layers.Dense(16,activation='relu'))\n",
        "  model.add(layers.Dense(10,activation = 'softmax'))\n",
        "  model.compile(optimizer='rmsprop',loss = 'categorical_crossentropy', metrics=['accuracy'])\n",
        "  return model"
      ],
      "execution_count": 0,
      "outputs": []
    },
    {
      "cell_type": "markdown",
      "metadata": {
        "id": "lMvrZk_8pnoq",
        "colab_type": "text"
      },
      "source": [
        "Normalizing and reshaping data"
      ]
    },
    {
      "cell_type": "code",
      "metadata": {
        "id": "3G6nDWs-ordG",
        "colab_type": "code",
        "colab": {
          "base_uri": "https://localhost:8080/",
          "height": 50
        },
        "outputId": "2a3ce5e1-6baf-414d-9f78-63e9a258a831"
      },
      "source": [
        "train_images = train_images.reshape((train_images.shape[0],train_images.shape[1]*train_images.shape[2]))\n",
        "train_images = train_images.astype('float32') / 255\n",
        "test_images = test_images.reshape((test_images.shape[0],test_images.shape[1]*test_images.shape[2]))\n",
        "test_images = test_images.astype('float32') / 255\n",
        "\n",
        "print(train_images.shape)\n",
        "#print(train_images[indx])\n",
        "print(test_images.shape)\n",
        "#print(test_images[indx])"
      ],
      "execution_count": 11,
      "outputs": [
        {
          "output_type": "stream",
          "text": [
            "(60000, 784)\n",
            "(10000, 784)\n"
          ],
          "name": "stdout"
        }
      ]
    },
    {
      "cell_type": "code",
      "metadata": {
        "id": "WtifaK8Zq-kg",
        "colab_type": "code",
        "colab": {
          "base_uri": "https://localhost:8080/",
          "height": 857
        },
        "outputId": "e457b8f7-e716-4c62-808d-761af458955b"
      },
      "source": [
        "model1 = build_model()\n",
        "history = model1.fit(train_images,train_labels_categorical,epochs=25,batch_size=128)"
      ],
      "execution_count": 16,
      "outputs": [
        {
          "output_type": "stream",
          "text": [
            "Epoch 1/25\n",
            "60000/60000 [==============================] - 1s 22us/step - loss: 0.4913 - accuracy: 0.8687\n",
            "Epoch 2/25\n",
            "60000/60000 [==============================] - 1s 22us/step - loss: 0.2403 - accuracy: 0.9321\n",
            "Epoch 3/25\n",
            "60000/60000 [==============================] - 1s 22us/step - loss: 0.1961 - accuracy: 0.9437\n",
            "Epoch 4/25\n",
            "60000/60000 [==============================] - 1s 22us/step - loss: 0.1707 - accuracy: 0.9516\n",
            "Epoch 5/25\n",
            "60000/60000 [==============================] - 1s 22us/step - loss: 0.1532 - accuracy: 0.9563\n",
            "Epoch 6/25\n",
            "60000/60000 [==============================] - 1s 22us/step - loss: 0.1393 - accuracy: 0.9597\n",
            "Epoch 7/25\n",
            "60000/60000 [==============================] - 1s 22us/step - loss: 0.1288 - accuracy: 0.9624\n",
            "Epoch 8/25\n",
            "60000/60000 [==============================] - 1s 22us/step - loss: 0.1197 - accuracy: 0.9653\n",
            "Epoch 9/25\n",
            "60000/60000 [==============================] - 1s 22us/step - loss: 0.1122 - accuracy: 0.9679\n",
            "Epoch 10/25\n",
            "60000/60000 [==============================] - 1s 22us/step - loss: 0.1055 - accuracy: 0.9685\n",
            "Epoch 11/25\n",
            "60000/60000 [==============================] - 1s 22us/step - loss: 0.0992 - accuracy: 0.9715\n",
            "Epoch 12/25\n",
            "60000/60000 [==============================] - 1s 22us/step - loss: 0.0945 - accuracy: 0.9726\n",
            "Epoch 13/25\n",
            "60000/60000 [==============================] - 1s 21us/step - loss: 0.0899 - accuracy: 0.9735\n",
            "Epoch 14/25\n",
            "60000/60000 [==============================] - 1s 22us/step - loss: 0.0857 - accuracy: 0.9747\n",
            "Epoch 15/25\n",
            "60000/60000 [==============================] - 1s 22us/step - loss: 0.0821 - accuracy: 0.9759\n",
            "Epoch 16/25\n",
            "60000/60000 [==============================] - 1s 22us/step - loss: 0.0790 - accuracy: 0.9769\n",
            "Epoch 17/25\n",
            "60000/60000 [==============================] - 1s 22us/step - loss: 0.0751 - accuracy: 0.9781\n",
            "Epoch 18/25\n",
            "60000/60000 [==============================] - 1s 21us/step - loss: 0.0729 - accuracy: 0.9786\n",
            "Epoch 19/25\n",
            "60000/60000 [==============================] - 1s 21us/step - loss: 0.0701 - accuracy: 0.9794\n",
            "Epoch 20/25\n",
            "60000/60000 [==============================] - 1s 22us/step - loss: 0.0672 - accuracy: 0.9805\n",
            "Epoch 21/25\n",
            "60000/60000 [==============================] - 1s 22us/step - loss: 0.0651 - accuracy: 0.9808\n",
            "Epoch 22/25\n",
            "60000/60000 [==============================] - 1s 21us/step - loss: 0.0625 - accuracy: 0.9821\n",
            "Epoch 23/25\n",
            "60000/60000 [==============================] - 1s 21us/step - loss: 0.0603 - accuracy: 0.9824\n",
            "Epoch 24/25\n",
            "60000/60000 [==============================] - 1s 21us/step - loss: 0.0585 - accuracy: 0.9826\n",
            "Epoch 25/25\n",
            "60000/60000 [==============================] - 1s 21us/step - loss: 0.0560 - accuracy: 0.9834\n"
          ],
          "name": "stdout"
        }
      ]
    },
    {
      "cell_type": "code",
      "metadata": {
        "id": "Z6aaXLVxriqK",
        "colab_type": "code",
        "colab": {
          "base_uri": "https://localhost:8080/",
          "height": 34
        },
        "outputId": "0ec8a6a1-58f9-4736-ae50-306e7cf1777a"
      },
      "source": [
        "history_dict = history.history\n",
        "history_dict.keys()"
      ],
      "execution_count": 17,
      "outputs": [
        {
          "output_type": "execute_result",
          "data": {
            "text/plain": [
              "dict_keys(['loss', 'accuracy'])"
            ]
          },
          "metadata": {
            "tags": []
          },
          "execution_count": 17
        }
      ]
    },
    {
      "cell_type": "code",
      "metadata": {
        "id": "BIuxGJW9tVsG",
        "colab_type": "code",
        "colab": {
          "base_uri": "https://localhost:8080/",
          "height": 295
        },
        "outputId": "ab2abe21-9589-4fea-8c64-6b11e5fd14ee"
      },
      "source": [
        "loss_val  = history_dict['loss']\n",
        "acc_val = history_dict['accuracy']\n",
        "\n",
        "epochs = range(1, len(acc_val)+1)\n",
        "\n",
        "plt.plot(epochs,loss_val,'bo',label='Training loss')\n",
        "plt.plot(epochs,acc_val,'b',label='Training Accuracy')\n",
        "plt.title(\"Training Accuracy and Loss\")\n",
        "plt.xlabel(\"Epochs\")\n",
        "plt.legend()\n",
        "plt.show()"
      ],
      "execution_count": 18,
      "outputs": [
        {
          "output_type": "display_data",
          "data": {
            "image/png": "[encoded data removed]",
            "text/plain": [
              "<Figure size 432x288 with 1 Axes>"
            ]
          },
          "metadata": {
            "tags": [],
            "needs_background": "light"
          }
        }
      ]
    },
    {
      "cell_type": "markdown",
      "metadata": {
        "id": "FjgPqq1vujmN",
        "colab_type": "text"
      },
      "source": [
        "Creating validation data set and testing accuracy and loss on both training and validation data set"
      ]
    },
    {
      "cell_type": "code",
      "metadata": {
        "id": "xtuCtyB3udUc",
        "colab_type": "code",
        "colab": {
          "base_uri": "https://localhost:8080/",
          "height": 50
        },
        "outputId": "3c2ef1fc-e78e-4433-eab7-c157c01bfe4e"
      },
      "source": [
        "#amount of data needed in validation set\n",
        "valid = 10000\n",
        "val_images = train_images[:valid]\n",
        "partial_train_images = train_images[valid:]\n",
        "val_labels = train_labels_categorical[:valid]\n",
        "partial_train_labels = train_labels_categorical[valid:]\n",
        "\n",
        "print(\"length of validation data set : \", len(val_images))\n",
        "print(\"Shape of validation data set : \", val_images.shape)"
      ],
      "execution_count": 19,
      "outputs": [
        {
          "output_type": "stream",
          "text": [
            "length of validation data set :  10000\n",
            "Shape of validation data set :  (10000, 784)\n"
          ],
          "name": "stdout"
        }
      ]
    },
    {
      "cell_type": "code",
      "metadata": {
        "id": "2ZbBK72Cv0Fo",
        "colab_type": "code",
        "colab": {
          "base_uri": "https://localhost:8080/",
          "height": 894
        },
        "outputId": "250e612f-f841-43e4-9b45-8cddf4ca74ce"
      },
      "source": [
        "history_val = model1.fit(partial_train_images,\n",
        "                         partial_train_labels,\n",
        "                         batch_size = 128,\n",
        "                         epochs = 25,\n",
        "                         validation_data = (val_images,val_labels))"
      ],
      "execution_count": 20,
      "outputs": [
        {
          "output_type": "stream",
          "text": [
            "Train on 50000 samples, validate on 10000 samples\n",
            "Epoch 1/25\n",
            "50000/50000 [==============================] - 1s 26us/step - loss: 0.0539 - accuracy: 0.9842 - val_loss: 0.0552 - val_accuracy: 0.9831\n",
            "Epoch 2/25\n",
            "50000/50000 [==============================] - 1s 25us/step - loss: 0.0516 - accuracy: 0.9847 - val_loss: 0.0693 - val_accuracy: 0.9796\n",
            "Epoch 3/25\n",
            "50000/50000 [==============================] - 1s 25us/step - loss: 0.0498 - accuracy: 0.9856 - val_loss: 0.0668 - val_accuracy: 0.9798\n",
            "Epoch 4/25\n",
            "50000/50000 [==============================] - 1s 25us/step - loss: 0.0472 - accuracy: 0.9863 - val_loss: 0.0744 - val_accuracy: 0.9777\n",
            "Epoch 5/25\n",
            "50000/50000 [==============================] - 1s 25us/step - loss: 0.0450 - accuracy: 0.9871 - val_loss: 0.0679 - val_accuracy: 0.9801\n",
            "Epoch 6/25\n",
            "50000/50000 [==============================] - 1s 25us/step - loss: 0.0445 - accuracy: 0.9869 - val_loss: 0.0683 - val_accuracy: 0.9790\n",
            "Epoch 7/25\n",
            "50000/50000 [==============================] - 1s 25us/step - loss: 0.0420 - accuracy: 0.9878 - val_loss: 0.0704 - val_accuracy: 0.9793\n",
            "Epoch 8/25\n",
            "50000/50000 [==============================] - 1s 24us/step - loss: 0.0407 - accuracy: 0.9885 - val_loss: 0.0756 - val_accuracy: 0.9769\n",
            "Epoch 9/25\n",
            "50000/50000 [==============================] - 1s 25us/step - loss: 0.0399 - accuracy: 0.9884 - val_loss: 0.0838 - val_accuracy: 0.9749\n",
            "Epoch 10/25\n",
            "50000/50000 [==============================] - 1s 25us/step - loss: 0.0382 - accuracy: 0.9890 - val_loss: 0.0775 - val_accuracy: 0.9764\n",
            "Epoch 11/25\n",
            "50000/50000 [==============================] - 1s 25us/step - loss: 0.0373 - accuracy: 0.9896 - val_loss: 0.0788 - val_accuracy: 0.9781\n",
            "Epoch 12/25\n",
            "50000/50000 [==============================] - 1s 25us/step - loss: 0.0351 - accuracy: 0.9900 - val_loss: 0.0876 - val_accuracy: 0.9742\n",
            "Epoch 13/25\n",
            "50000/50000 [==============================] - 1s 25us/step - loss: 0.0338 - accuracy: 0.9898 - val_loss: 0.0884 - val_accuracy: 0.9761\n",
            "Epoch 14/25\n",
            "50000/50000 [==============================] - 1s 25us/step - loss: 0.0328 - accuracy: 0.9906 - val_loss: 0.0878 - val_accuracy: 0.9757\n",
            "Epoch 15/25\n",
            "50000/50000 [==============================] - 1s 25us/step - loss: 0.0319 - accuracy: 0.9906 - val_loss: 0.0880 - val_accuracy: 0.9755\n",
            "Epoch 16/25\n",
            "50000/50000 [==============================] - 1s 25us/step - loss: 0.0306 - accuracy: 0.9911 - val_loss: 0.0898 - val_accuracy: 0.9758\n",
            "Epoch 17/25\n",
            "50000/50000 [==============================] - 1s 25us/step - loss: 0.0301 - accuracy: 0.9912 - val_loss: 0.0972 - val_accuracy: 0.9727\n",
            "Epoch 18/25\n",
            "50000/50000 [==============================] - 1s 25us/step - loss: 0.0283 - accuracy: 0.9921 - val_loss: 0.0948 - val_accuracy: 0.9746\n",
            "Epoch 19/25\n",
            "50000/50000 [==============================] - 1s 25us/step - loss: 0.0276 - accuracy: 0.9921 - val_loss: 0.1010 - val_accuracy: 0.9738\n",
            "Epoch 20/25\n",
            "50000/50000 [==============================] - 1s 24us/step - loss: 0.0265 - accuracy: 0.9922 - val_loss: 0.1025 - val_accuracy: 0.9740\n",
            "Epoch 21/25\n",
            "50000/50000 [==============================] - 1s 25us/step - loss: 0.0259 - accuracy: 0.9929 - val_loss: 0.1033 - val_accuracy: 0.9740\n",
            "Epoch 22/25\n",
            "50000/50000 [==============================] - 1s 24us/step - loss: 0.0250 - accuracy: 0.9924 - val_loss: 0.1074 - val_accuracy: 0.9724\n",
            "Epoch 23/25\n",
            "50000/50000 [==============================] - 1s 25us/step - loss: 0.0238 - accuracy: 0.9931 - val_loss: 0.1086 - val_accuracy: 0.9733\n",
            "Epoch 24/25\n",
            "50000/50000 [==============================] - 1s 25us/step - loss: 0.0231 - accuracy: 0.9934 - val_loss: 0.1089 - val_accuracy: 0.9747\n",
            "Epoch 25/25\n",
            "50000/50000 [==============================] - 1s 25us/step - loss: 0.0219 - accuracy: 0.9938 - val_loss: 0.1178 - val_accuracy: 0.9714\n"
          ],
          "name": "stdout"
        }
      ]
    },
    {
      "cell_type": "code",
      "metadata": {
        "id": "19sZuaiEwb_T",
        "colab_type": "code",
        "colab": {
          "base_uri": "https://localhost:8080/",
          "height": 295
        },
        "outputId": "d6d6f205-cb21-48d3-fbaa-dd548005bcbe"
      },
      "source": [
        "history_val_dict = history_val.history\n",
        "history_val_dict.keys()\n",
        "loss_val  = history_val_dict['val_loss']\n",
        "loss_train = history_dict['loss']\n",
        "\n",
        "epochs = range(1, len(loss_train)+1)\n",
        "\n",
        "plt.plot(epochs,loss_val,'ro',label='Validation loss')\n",
        "plt.plot(epochs,loss_train,'b',label='Training loss')\n",
        "plt.title(\"Loss on Validation and Training data\")\n",
        "plt.xlabel(\"Epochs\")\n",
        "plt.legend()\n",
        "plt.show()"
      ],
      "execution_count": 24,
      "outputs": [
        {
          "output_type": "display_data",
          "data": {
            "image/png": "[encoded data removed]",
            "text/plain": [
              "<Figure size 432x288 with 1 Axes>"
            ]
          },
          "metadata": {
            "tags": [],
            "needs_background": "light"
          }
        }
      ]
    },
    {
      "cell_type": "code",
      "metadata": {
        "id": "A3R_Mlkzw9H0",
        "colab_type": "code",
        "colab": {
          "base_uri": "https://localhost:8080/",
          "height": 295
        },
        "outputId": "22adb26a-5d9a-4ed8-be46-a0641fcbf135"
      },
      "source": [
        "acc_val  = history_val_dict['val_accuracy']\n",
        "acc_train = history_dict['accuracy']\n",
        "\n",
        "epochs = range(1, len(acc_train)+1)\n",
        "\n",
        "plt.plot(epochs,acc_val,'ro',label='Validation accuracy')\n",
        "plt.plot(epochs,acc_train,'b',label='Training accuracy')\n",
        "plt.title(\"Accuracy on Validation and Training data\")\n",
        "plt.xlabel(\"Epochs\")\n",
        "plt.legend()\n",
        "plt.show()"
      ],
      "execution_count": 25,
      "outputs": [
        {
          "output_type": "display_data",
          "data": {
            "image/png": "[encoded data removed]",
            "text/plain": [
              "<Figure size 432x288 with 1 Axes>"
            ]
          },
          "metadata": {
            "tags": [],
            "needs_background": "light"
          }
        }
      ]
    },
    {
      "cell_type": "code",
      "metadata": {
        "id": "1z1S24odyESR",
        "colab_type": "code",
        "colab": {
          "base_uri": "https://localhost:8080/",
          "height": 558
        },
        "outputId": "0bf6eb1f-f9b3-4c93-d59a-ead0ee0a54ce"
      },
      "source": [
        "final_model = model1.fit(partial_train_images,partial_train_labels,\n",
        "                         batch_size = 128,\n",
        "                         epochs = 15,\n",
        "                         validation_data=(val_images,val_labels))"
      ],
      "execution_count": 27,
      "outputs": [
        {
          "output_type": "stream",
          "text": [
            "Train on 50000 samples, validate on 10000 samples\n",
            "Epoch 1/15\n",
            "50000/50000 [==============================] - 1s 26us/step - loss: 0.0212 - accuracy: 0.9940 - val_loss: 0.1107 - val_accuracy: 0.9732\n",
            "Epoch 2/15\n",
            "50000/50000 [==============================] - 1s 24us/step - loss: 0.0204 - accuracy: 0.9944 - val_loss: 0.1218 - val_accuracy: 0.9724\n",
            "Epoch 3/15\n",
            "50000/50000 [==============================] - 1s 24us/step - loss: 0.0198 - accuracy: 0.9942 - val_loss: 0.1153 - val_accuracy: 0.9734\n",
            "Epoch 4/15\n",
            "50000/50000 [==============================] - 1s 24us/step - loss: 0.0194 - accuracy: 0.9942 - val_loss: 0.1180 - val_accuracy: 0.9734\n",
            "Epoch 5/15\n",
            "50000/50000 [==============================] - 1s 25us/step - loss: 0.0182 - accuracy: 0.9948 - val_loss: 0.1297 - val_accuracy: 0.9704\n",
            "Epoch 6/15\n",
            "50000/50000 [==============================] - 1s 24us/step - loss: 0.0171 - accuracy: 0.9951 - val_loss: 0.1225 - val_accuracy: 0.9732\n",
            "Epoch 7/15\n",
            "50000/50000 [==============================] - 1s 25us/step - loss: 0.0167 - accuracy: 0.9951 - val_loss: 0.1203 - val_accuracy: 0.9732\n",
            "Epoch 8/15\n",
            "50000/50000 [==============================] - 1s 25us/step - loss: 0.0160 - accuracy: 0.9952 - val_loss: 0.1269 - val_accuracy: 0.9723\n",
            "Epoch 9/15\n",
            "50000/50000 [==============================] - 1s 25us/step - loss: 0.0151 - accuracy: 0.9958 - val_loss: 0.1324 - val_accuracy: 0.9710\n",
            "Epoch 10/15\n",
            "50000/50000 [==============================] - 1s 24us/step - loss: 0.0152 - accuracy: 0.9959 - val_loss: 0.1428 - val_accuracy: 0.9717\n",
            "Epoch 11/15\n",
            "50000/50000 [==============================] - 1s 24us/step - loss: 0.0146 - accuracy: 0.9959 - val_loss: 0.1338 - val_accuracy: 0.9726\n",
            "Epoch 12/15\n",
            "50000/50000 [==============================] - 1s 25us/step - loss: 0.0135 - accuracy: 0.9965 - val_loss: 0.1351 - val_accuracy: 0.9728\n",
            "Epoch 13/15\n",
            "50000/50000 [==============================] - 1s 25us/step - loss: 0.0133 - accuracy: 0.9964 - val_loss: 0.1425 - val_accuracy: 0.9718\n",
            "Epoch 14/15\n",
            "50000/50000 [==============================] - 1s 25us/step - loss: 0.0133 - accuracy: 0.9964 - val_loss: 0.1464 - val_accuracy: 0.9720\n",
            "Epoch 15/15\n",
            "50000/50000 [==============================] - 1s 24us/step - loss: 0.0127 - accuracy: 0.9963 - val_loss: 0.1424 - val_accuracy: 0.9713\n"
          ],
          "name": "stdout"
        }
      ]
    },
    {
      "cell_type": "code",
      "metadata": {
        "id": "Kcgn8z8xyonh",
        "colab_type": "code",
        "colab": {
          "base_uri": "https://localhost:8080/",
          "height": 34
        },
        "outputId": "750055f8-abe9-4052-faa9-6a3eb9781b86"
      },
      "source": [
        "result = model1.evaluate(test_images,test_labels_categorical)"
      ],
      "execution_count": 28,
      "outputs": [
        {
          "output_type": "stream",
          "text": [
            "10000/10000 [==============================] - 0s 49us/step\n"
          ],
          "name": "stdout"
        }
      ]
    },
    {
      "cell_type": "code",
      "metadata": {
        "id": "hY2zkgTdy9nC",
        "colab_type": "code",
        "colab": {
          "base_uri": "https://localhost:8080/",
          "height": 34
        },
        "outputId": "15a7b8d4-7a32-4a99-a95d-d892e8160b14"
      },
      "source": [
        "result"
      ],
      "execution_count": 29,
      "outputs": [
        {
          "output_type": "execute_result",
          "data": {
            "text/plain": [
              "[0.20052961343411513, 0.9657999873161316]"
            ]
          },
          "metadata": {
            "tags": []
          },
          "execution_count": 29
        }
      ]
    },
    {
      "cell_type": "code",
      "metadata": {
        "id": "r4TNJ5kbzAcN",
        "colab_type": "code",
        "colab": {}
      },
      "source": [
        "Y_pred = model1.predict(test_images)"
      ],
      "execution_count": 0,
      "outputs": []
    },
    {
      "cell_type": "code",
      "metadata": {
        "id": "Xqcusuedzl1i",
        "colab_type": "code",
        "colab": {}
      },
      "source": [
        "y_pred = np.argmax(Y_pred,axis=1)"
      ],
      "execution_count": 0,
      "outputs": []
    },
    {
      "cell_type": "code",
      "metadata": {
        "id": "O-0beHq60Im-",
        "colab_type": "code",
        "colab": {
          "base_uri": "https://localhost:8080/",
          "height": 202
        },
        "outputId": "9549da66-422d-463e-bc5f-aebe5061f4e6"
      },
      "source": [
        "from sklearn.metrics import confusion_matrix,classification_report\n",
        "\n",
        "print(\"Confusion Matrix\")\n",
        "print(confusion_matrix(test_labels,y_pred))"
      ],
      "execution_count": 34,
      "outputs": [
        {
          "output_type": "stream",
          "text": [
            "Confusion Matrix\n",
            "[[ 960    1    2    2    5    1    4    2    3    0]\n",
            " [   1 1120    4    1    0    0    2    1    6    0]\n",
            " [   1    4  993    3    3    0   10   12    5    1]\n",
            " [   0    0    7  984    1    6    0    7    5    0]\n",
            " [   0    4    4    2  945    0    9    8    1    9]\n",
            " [   2    0    0   12    2  852    8    2   13    1]\n",
            " [   6    2    4    0    5    5  934    0    2    0]\n",
            " [   1    5   13    6    1    1    0  994    1    6]\n",
            " [   2    1   11    9    5    3   10    5  923    5]\n",
            " [   2    7    0    9    9    9    0   14    6  953]]\n"
          ],
          "name": "stdout"
        }
      ]
    },
    {
      "cell_type": "code",
      "metadata": {
        "id": "8ytSWmTb0h-u",
        "colab_type": "code",
        "colab": {
          "base_uri": "https://localhost:8080/",
          "height": 302
        },
        "outputId": "69627a48-330f-457f-bf93-f84583746d91"
      },
      "source": [
        "print(classification_report(test_labels,y_pred))"
      ],
      "execution_count": 35,
      "outputs": [
        {
          "output_type": "stream",
          "text": [
            "              precision    recall  f1-score   support\n",
            "\n",
            "           0       0.98      0.98      0.98       980\n",
            "           1       0.98      0.99      0.98      1135\n",
            "           2       0.96      0.96      0.96      1032\n",
            "           3       0.96      0.97      0.97      1010\n",
            "           4       0.97      0.96      0.97       982\n",
            "           5       0.97      0.96      0.96       892\n",
            "           6       0.96      0.97      0.97       958\n",
            "           7       0.95      0.97      0.96      1028\n",
            "           8       0.96      0.95      0.95       974\n",
            "           9       0.98      0.94      0.96      1009\n",
            "\n",
            "    accuracy                           0.97     10000\n",
            "   macro avg       0.97      0.97      0.97     10000\n",
            "weighted avg       0.97      0.97      0.97     10000\n",
            "\n"
          ],
          "name": "stdout"
        }
      ]
    },
    {
      "cell_type": "code",
      "metadata": {
        "id": "VvXKO42r1BgS",
        "colab_type": "code",
        "colab": {}
      },
      "source": [
        ""
      ],
      "execution_count": 0,
      "outputs": []
    }
  ]
}