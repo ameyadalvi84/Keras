{
  "nbformat": 4,
  "nbformat_minor": 0,
  "metadata": {
    "colab": {
      "name": "MNIST dataset in Karas with K fold cross validation.ipynb",
      "provenance": [],
      "collapsed_sections": [],
      "authorship_tag": "ABX9TyP9Rw67s2IvntrvqBbrPqTS",
      "include_colab_link": true
    },
    "kernelspec": {
      "name": "python3",
      "display_name": "Python 3"
    },
    "accelerator": "GPU"
  },
  "cells": [
    {
      "cell_type": "markdown",
      "metadata": {
        "id": "view-in-github",
        "colab_type": "text"
      },
      "source": [
        "<a href=\"https://colab.research.google.com/github/ameyadalvi84/Keras/blob/master/MNIST_dataset_in_Karas_with_K_fold_cross_validation.ipynb\" target=\"_parent\"><img src=\"https://colab.research.google.com/assets/colab-badge.svg\" alt=\"Open In Colab\"/></a>"
      ]
    },
    {
      "cell_type": "markdown",
      "metadata": {
        "id": "wyH4pMtJLLd5",
        "colab_type": "text"
      },
      "source": [
        "K Fold Cross Validation for MNIST dataset in Keras"
      ]
    },
    {
      "cell_type": "code",
      "metadata": {
        "id": "lJ_o3lYzLBhX",
        "colab_type": "code",
        "colab": {}
      },
      "source": [
        "import keras as K\n",
        "from keras import models\n",
        "from keras import layers\n",
        "from keras.datasets import mnist\n",
        "import numpy as np"
      ],
      "execution_count": 0,
      "outputs": []
    },
    {
      "cell_type": "markdown",
      "metadata": {
        "id": "-mM78P-EL19C",
        "colab_type": "text"
      },
      "source": [
        "Loading the MNIST data set and basic analysis"
      ]
    },
    {
      "cell_type": "code",
      "metadata": {
        "id": "ovIMd9THLsFT",
        "colab_type": "code",
        "colab": {
          "base_uri": "https://localhost:8080/",
          "height": 127
        },
        "outputId": "608b6db6-388e-4d45-998c-96f1146357ee"
      },
      "source": [
        "(train_images,train_labels),(test_images,test_labels) = mnist.load_data()\n",
        "print(\"Shape of Train data : \",train_images.shape)\n",
        "print(\"Shape of Test data : \",test_images.shape)\n",
        "print(\"Max value in train_images : \",train_images.max())\n",
        "print(\"Min value in train_images : \",train_images.min())"
      ],
      "execution_count": 2,
      "outputs": [
        {
          "output_type": "stream",
          "text": [
            "Downloading data from https://s3.amazonaws.com/img-datasets/mnist.npz\n",
            "11493376/11490434 [==============================] - 2s 0us/step\n",
            "Shape of Train data :  (60000, 28, 28)\n",
            "Shape of Test data :  (10000, 28, 28)\n",
            "Max value in train_images :  255\n",
            "Min value in train_images :  0\n"
          ],
          "name": "stdout"
        }
      ]
    },
    {
      "cell_type": "markdown",
      "metadata": {
        "id": "v4FTsZQ7M1-D",
        "colab_type": "text"
      },
      "source": [
        "Plotting the data"
      ]
    },
    {
      "cell_type": "code",
      "metadata": {
        "id": "SZhRNnoNMc9s",
        "colab_type": "code",
        "colab": {
          "base_uri": "https://localhost:8080/",
          "height": 281
        },
        "outputId": "03e00709-f856-4592-a6be-1dbda32dc51b"
      },
      "source": [
        "import matplotlib.pyplot as plt\n",
        "import random\n",
        "%matplotlib inline\n",
        "random.seed(1234)\n",
        "\n",
        "indx = np.random.randint(0,10)\n",
        "data = train_images[indx]\n",
        "plt.imshow(data, cmap = plt.cm.binary)\n",
        "plt.title(train_labels[indx])\n",
        "plt.show()"
      ],
      "execution_count": 3,
      "outputs": [
        {
          "output_type": "display_data",
          "data": {
            "image/png": "[encoded data removed]",
            "text/plain": [
              "<Figure size 432x288 with 1 Axes>"
            ]
          },
          "metadata": {
            "tags": [],
            "needs_background": "light"
          }
        }
      ]
    },
    {
      "cell_type": "markdown",
      "metadata": {
        "id": "ozRWLiTdOGkS",
        "colab_type": "text"
      },
      "source": [
        "Converting labels to vectors and normalizing the data for images"
      ]
    },
    {
      "cell_type": "code",
      "metadata": {
        "id": "2dxVCqaLNnyG",
        "colab_type": "code",
        "colab": {
          "base_uri": "https://localhost:8080/",
          "height": 54
        },
        "outputId": "dcd95264-cc73-456d-81aa-1ebf85daf1af"
      },
      "source": [
        "from keras.utils import to_categorical\n",
        "\n",
        "train_labels_categorical = to_categorical(train_labels)\n",
        "test_labels_categorical = to_categorical(test_labels)\n",
        "\n",
        "train_images_reshape = train_images.reshape((train_images.shape[0],train_images.shape[1]*train_images.shape[2]))\n",
        "train_images_reshape = train_images_reshape.astype('float32') / train_images.max()\n",
        "\n",
        "test_images_reshape = test_images.reshape((test_images.shape[0],test_images.shape[1]*test_images.shape[2]))\n",
        "test_images_reshape = test_images_reshape.astype('float32') / train_images.max()\n",
        "\n",
        "print(\"Value of train label[\",indx,\"] is :\",train_labels[indx])\n",
        "print(\"Value of train label[\",indx,\"] is :\",train_labels_categorical[indx])"
      ],
      "execution_count": 4,
      "outputs": [
        {
          "output_type": "stream",
          "text": [
            "Value of train label[ 2 ] is : 4\n",
            "Value of train label[ 2 ] is : [0. 0. 0. 0. 1. 0. 0. 0. 0. 0.]\n"
          ],
          "name": "stdout"
        }
      ]
    },
    {
      "cell_type": "markdown",
      "metadata": {
        "id": "HXK_BnMCcg8a",
        "colab_type": "text"
      },
      "source": [
        "Building Model"
      ]
    },
    {
      "cell_type": "code",
      "metadata": {
        "id": "EuYFn7EgcdFw",
        "colab_type": "code",
        "colab": {}
      },
      "source": [
        "def build_model():\n",
        "  model = models.Sequential()\n",
        "  model.add(layers.Dense(32,activation='relu', input_shape=(28*28,)))\n",
        "  model.add(layers.Dense(16,activation='relu'))\n",
        "  model.add(layers.Dense(10,activation = 'softmax'))\n",
        "  model.compile(optimizer='rmsprop',loss = 'categorical_crossentropy', metrics=['accuracy'])\n",
        "  return model"
      ],
      "execution_count": 0,
      "outputs": []
    },
    {
      "cell_type": "markdown",
      "metadata": {
        "id": "nA7nNAynRj5p",
        "colab_type": "text"
      },
      "source": [
        "Creating the K-Folds for our data"
      ]
    },
    {
      "cell_type": "code",
      "metadata": {
        "id": "gpmfCev2QtyW",
        "colab_type": "code",
        "colab": {
          "base_uri": "https://localhost:8080/",
          "height": 256
        },
        "outputId": "7ff1ade4-987f-4fff-82bd-6405f58b258b"
      },
      "source": [
        "k = 6\n",
        "num_val_samples = len(train_images_reshape)//k\n",
        "num_epochs = 20\n",
        "val_scores = []\n",
        "\n",
        "for i in range(k):\n",
        "  print(\"processing fold # \", i)\n",
        "  val_images = train_images_reshape[i*num_val_samples:(i+1)*num_val_samples]\n",
        "  val_labels = train_labels_categorical[i*num_val_samples:(i+1)*num_val_samples]\n",
        "  partial_train_images = np.concatenate([train_images_reshape[(i+1)*num_val_samples:] , train_images_reshape[:i* num_val_samples]])\n",
        "  partial_train_labels = np.concatenate([train_labels_categorical[(i+1)*num_val_samples:] , train_labels_categorical[:i* num_val_samples]])\n",
        "  model = build_model()\n",
        "  model.fit(partial_train_images,partial_train_labels,epochs=num_epochs, batch_size = 128, verbose=0)\n",
        "  val_loss, val_accuracy = model.evaluate(val_images,val_labels, verbose=1)\n",
        "  val_scores.append(val_accuracy)\n",
        "\n",
        "#val_scores\n",
        "np.mean(val_scores)"
      ],
      "execution_count": 14,
      "outputs": [
        {
          "output_type": "stream",
          "text": [
            "processing fold #  0\n",
            "10000/10000 [==============================] - 1s 56us/step\n",
            "processing fold #  1\n",
            "10000/10000 [==============================] - 0s 46us/step\n",
            "processing fold #  2\n",
            "10000/10000 [==============================] - 1s 54us/step\n",
            "processing fold #  3\n",
            "10000/10000 [==============================] - 0s 47us/step\n",
            "processing fold #  4\n",
            "10000/10000 [==============================] - 0s 49us/step\n",
            "processing fold #  5\n",
            "10000/10000 [==============================] - 0s 47us/step\n"
          ],
          "name": "stdout"
        },
        {
          "output_type": "execute_result",
          "data": {
            "text/plain": [
              "0.960666666428248"
            ]
          },
          "metadata": {
            "tags": []
          },
          "execution_count": 14
        }
      ]
    },
    {
      "cell_type": "code",
      "metadata": {
        "id": "jdfWSlftebVF",
        "colab_type": "code",
        "colab": {
          "base_uri": "https://localhost:8080/",
          "height": 35
        },
        "outputId": "f3c37ed1-180d-468c-d73d-a9ed073ec4c4"
      },
      "source": [
        "print(val_scores)"
      ],
      "execution_count": 15,
      "outputs": [
        {
          "output_type": "stream",
          "text": [
            "[0.9641000032424927, 0.9610000252723694, 0.9585000276565552, 0.957099974155426, 0.958299994468689, 0.9649999737739563]\n"
          ],
          "name": "stdout"
        }
      ]
    },
    {
      "cell_type": "markdown",
      "metadata": {
        "id": "Ga2XLI_-gwBa",
        "colab_type": "text"
      },
      "source": [
        "Plotting the validation accuracy"
      ]
    },
    {
      "cell_type": "code",
      "metadata": {
        "id": "_pfk2oqMgqJI",
        "colab_type": "code",
        "colab": {
          "base_uri": "https://localhost:8080/",
          "height": 295
        },
        "outputId": "255ba8e4-6d91-410f-f728-8ff7ee4f1534"
      },
      "source": [
        "epoch = range(1,len(val_scores) + 1)\n",
        "plt.plot(epoch,val_scores,'r--',label='Validation accuracy')\n",
        "plt.title(\"Validation Accuracy\")\n",
        "plt.xlabel(\"Epochs\")\n",
        "plt.legend()\n",
        "plt.show()"
      ],
      "execution_count": 18,
      "outputs": [
        {
          "output_type": "display_data",
          "data": {
            "image/png": "[encoded data removed]",
            "text/plain": [
              "<Figure size 432x288 with 1 Axes>"
            ]
          },
          "metadata": {
            "tags": [],
            "needs_background": "light"
          }
        }
      ]
    },
    {
      "cell_type": "code",
      "metadata": {
        "id": "h41Uz56Shb-G",
        "colab_type": "code",
        "colab": {
          "base_uri": "https://localhost:8080/",
          "height": 182
        },
        "outputId": "d922c227-7ad7-40e1-b3d3-5c0d10b97a6e"
      },
      "source": [
        "k=4\n",
        "val_scores = []\n",
        "for i in range(k):\n",
        "  print(\"processing fold # \", i)\n",
        "  val_images = train_images_reshape[i*num_val_samples:(i+1)*num_val_samples]\n",
        "  val_labels = train_labels_categorical[i*num_val_samples:(i+1)*num_val_samples]\n",
        "  partial_train_images = np.concatenate([train_images_reshape[(i+1)*num_val_samples:] , train_images_reshape[:i* num_val_samples]])\n",
        "  partial_train_labels = np.concatenate([train_labels_categorical[(i+1)*num_val_samples:] , train_labels_categorical[:i* num_val_samples]])\n",
        "  model = build_model()\n",
        "  model.fit(partial_train_images,partial_train_labels,epochs=num_epochs, batch_size = 128, verbose=0)\n",
        "  val_loss, val_accuracy = model.evaluate(val_images,val_labels, verbose=1)\n",
        "  val_scores.append(val_accuracy)\n",
        "\n",
        "np.mean(val_scores)"
      ],
      "execution_count": 19,
      "outputs": [
        {
          "output_type": "stream",
          "text": [
            "processing fold #  0\n",
            "10000/10000 [==============================] - 1s 51us/step\n",
            "processing fold #  1\n",
            "10000/10000 [==============================] - 1s 53us/step\n",
            "processing fold #  2\n",
            "10000/10000 [==============================] - 1s 55us/step\n",
            "processing fold #  3\n",
            "10000/10000 [==============================] - 0s 50us/step\n"
          ],
          "name": "stdout"
        },
        {
          "output_type": "execute_result",
          "data": {
            "text/plain": [
              "0.9621499925851822"
            ]
          },
          "metadata": {
            "tags": []
          },
          "execution_count": 19
        }
      ]
    },
    {
      "cell_type": "code",
      "metadata": {
        "id": "XdeqmYu_iCGF",
        "colab_type": "code",
        "colab": {
          "base_uri": "https://localhost:8080/",
          "height": 35
        },
        "outputId": "e305a40b-d71c-40ef-83f9-8126c8f2f0e0"
      },
      "source": [
        "result = model.evaluate(test_images_reshape,test_labels_categorical)"
      ],
      "execution_count": 20,
      "outputs": [
        {
          "output_type": "stream",
          "text": [
            "10000/10000 [==============================] - 1s 52us/step\n"
          ],
          "name": "stdout"
        }
      ]
    },
    {
      "cell_type": "code",
      "metadata": {
        "id": "FYjN6tBHitAf",
        "colab_type": "code",
        "colab": {
          "base_uri": "https://localhost:8080/",
          "height": 35
        },
        "outputId": "da4cb470-bb1a-43eb-9098-0239e3e3ef74"
      },
      "source": [
        "result"
      ],
      "execution_count": 21,
      "outputs": [
        {
          "output_type": "execute_result",
          "data": {
            "text/plain": [
              "[0.1309204482719768, 0.9641000032424927]"
            ]
          },
          "metadata": {
            "tags": []
          },
          "execution_count": 21
        }
      ]
    },
    {
      "cell_type": "code",
      "metadata": {
        "id": "QG8eBw__iupt",
        "colab_type": "code",
        "colab": {}
      },
      "source": [
        "Y_pred = model.predict(test_images_reshape)"
      ],
      "execution_count": 0,
      "outputs": []
    },
    {
      "cell_type": "code",
      "metadata": {
        "id": "7WwglWoli1WZ",
        "colab_type": "code",
        "colab": {
          "base_uri": "https://localhost:8080/",
          "height": 219
        },
        "outputId": "98fb0c36-9924-4b0e-93b5-446132069d83"
      },
      "source": [
        "y_pred = np.argmax(Y_pred,axis=1)\n",
        "\n",
        "from sklearn.metrics import confusion_matrix,classification_report\n",
        "\n",
        "print(\"Confusion Matrix\")\n",
        "print(confusion_matrix(test_labels,y_pred))"
      ],
      "execution_count": 25,
      "outputs": [
        {
          "output_type": "stream",
          "text": [
            "Confusion Matrix\n",
            "[[ 969    0    2    0    0    2    2    1    3    1]\n",
            " [   0 1119    5    1    0    1    3    1    5    0]\n",
            " [   5    1 1003    4    3    1    1    4   10    0]\n",
            " [   0    0    7  964    0   18    1    7    7    6]\n",
            " [   2    0    3    1  946    1    9    5    3   12]\n",
            " [   4    0    2   10    3  846   11    4    9    3]\n",
            " [  16    3    0    1    6    5  923    0    4    0]\n",
            " [   2    6   12    2    0    0    0  989    5   12]\n",
            " [   9    2    2    3    1   11    5    2  935    4]\n",
            " [   8    7    0    6   11   12    2    6   10  947]]\n"
          ],
          "name": "stdout"
        }
      ]
    },
    {
      "cell_type": "code",
      "metadata": {
        "id": "TLLXEzRSl14r",
        "colab_type": "code",
        "colab": {
          "base_uri": "https://localhost:8080/",
          "height": 329
        },
        "outputId": "34cfb712-c86c-42cc-ce73-de862a60bb43"
      },
      "source": [
        "print(classification_report(test_labels,y_pred))"
      ],
      "execution_count": 34,
      "outputs": [
        {
          "output_type": "stream",
          "text": [
            "              precision    recall  f1-score   support\n",
            "\n",
            "           0       0.95      0.99      0.97       980\n",
            "           1       0.98      0.99      0.98      1135\n",
            "           2       0.97      0.97      0.97      1032\n",
            "           3       0.97      0.95      0.96      1010\n",
            "           4       0.98      0.96      0.97       982\n",
            "           5       0.94      0.95      0.95       892\n",
            "           6       0.96      0.96      0.96       958\n",
            "           7       0.97      0.96      0.97      1028\n",
            "           8       0.94      0.96      0.95       974\n",
            "           9       0.96      0.94      0.95      1009\n",
            "\n",
            "    accuracy                           0.96     10000\n",
            "   macro avg       0.96      0.96      0.96     10000\n",
            "weighted avg       0.96      0.96      0.96     10000\n",
            "\n"
          ],
          "name": "stdout"
        }
      ]
    },
    {
      "cell_type": "code",
      "metadata": {
        "id": "FchI5OTfmySW",
        "colab_type": "code",
        "colab": {}
      },
      "source": [
        ""
      ],
      "execution_count": 0,
      "outputs": []
    }
  ]
}